{
  "nbformat": 4,
  "nbformat_minor": 0,
  "metadata": {
    "kernelspec": {
      "display_name": "Python 3",
      "language": "python",
      "name": "python3"
    },
    "colab": {
      "name": "911_final.ipynb",
      "provenance": []
    }
  },
  "cells": [
    {
      "cell_type": "markdown",
      "metadata": {
        "id": "07fKQgEjAAU-",
        "colab_type": "text"
      },
      "source": [
        " The data contains the following fields:\n",
        "\n",
        "lat : String variable, Latitude\n",
        "lng: String variable, Longitude\n",
        "desc: String variable, Description of the Emergency Call\n",
        "zip: String variable, Zipcode\n",
        "title: String variable, Title\n",
        "timeStamp: String variable, YYYY-MM-DD HH:MM:SS\n",
        "twp: String variable, Township\n",
        "addr: String variable, Address\n",
        "e: String variable, Dummy variable (always 1)"
      ]
    },
    {
      "cell_type": "markdown",
      "metadata": {
        "id": "3W3m4NmNAAU_",
        "colab_type": "text"
      },
      "source": [
        "Importing numpy and pandas libraries"
      ]
    },
    {
      "cell_type": "code",
      "metadata": {
        "id": "2p-I__1RAUg2",
        "colab_type": "code",
        "colab": {
          "base_uri": "https://localhost:8080/",
          "height": 120
        },
        "outputId": "ca5a75d6-10c4-4826-86be-4c3e8dc7d5bb"
      },
      "source": [
        "from google.colab import drive\n",
        "drive.mount('/content/gdrive')"
      ],
      "execution_count": 1,
      "outputs": [
        {
          "output_type": "stream",
          "text": [
            "Go to this URL in a browser: https://accounts.google.com/o/oauth2/auth?client_id=947318989803-6bn6qk8qdgf4n4g3pfee6491hc0brc4i.apps.googleusercontent.com&redirect_uri=urn%3aietf%3awg%3aoauth%3a2.0%3aoob&scope=email%20https%3a%2f%2fwww.googleapis.com%2fauth%2fdocs.test%20https%3a%2f%2fwww.googleapis.com%2fauth%2fdrive%20https%3a%2f%2fwww.googleapis.com%2fauth%2fdrive.photos.readonly%20https%3a%2f%2fwww.googleapis.com%2fauth%2fpeopleapi.readonly&response_type=code\n",
            "\n",
            "Enter your authorization code:\n",
            "··········\n",
            "Mounted at /content/gdrive\n"
          ],
          "name": "stdout"
        }
      ]
    },
    {
      "cell_type": "code",
      "metadata": {
        "id": "Bnl8cZFYk88Y",
        "colab_type": "code",
        "colab": {}
      },
      "source": [
        ""
      ],
      "execution_count": null,
      "outputs": []
    },
    {
      "cell_type": "code",
      "metadata": {
        "id": "QOVKHOkIAa-B",
        "colab_type": "code",
        "colab": {}
      },
      "source": [
        "import os\n",
        "os.environ['KAGGLE_CONFIG_DIR'] = \"/content/gdrive/My Drive/Kaggle\""
      ],
      "execution_count": 2,
      "outputs": []
    },
    {
      "cell_type": "markdown",
      "metadata": {
        "id": "LaW00M7DAnFh",
        "colab_type": "text"
      },
      "source": [
        "kaggle datasets download -d mchirico/montcoalert"
      ]
    },
    {
      "cell_type": "code",
      "metadata": {
        "id": "9oHOZJhlAw-0",
        "colab_type": "code",
        "colab": {
          "base_uri": "https://localhost:8080/",
          "height": 66
        },
        "outputId": "ebecae3b-a18a-48a1-eb54-5e8b8552c21b"
      },
      "source": [
        "! kaggle datasets download -d mchirico/montcoalert"
      ],
      "execution_count": 3,
      "outputs": [
        {
          "output_type": "stream",
          "text": [
            "Downloading montcoalert.zip to /content\n",
            " 66% 16.0M/24.2M [00:00<00:00, 38.6MB/s]\n",
            "100% 24.2M/24.2M [00:00<00:00, 69.7MB/s]\n"
          ],
          "name": "stdout"
        }
      ]
    },
    {
      "cell_type": "code",
      "metadata": {
        "id": "a6bThaW9BdMl",
        "colab_type": "code",
        "colab": {
          "base_uri": "https://localhost:8080/",
          "height": 50
        },
        "outputId": "3919d02b-97e5-42d1-8eaa-dd158cae038b"
      },
      "source": [
        "!unzip montcoalert.zip"
      ],
      "execution_count": 4,
      "outputs": [
        {
          "output_type": "stream",
          "text": [
            "Archive:  montcoalert.zip\n",
            "  inflating: 911.csv                 \n"
          ],
          "name": "stdout"
        }
      ]
    },
    {
      "cell_type": "code",
      "metadata": {
        "id": "tO9m_KadAAVA",
        "colab_type": "code",
        "colab": {}
      },
      "source": [
        "\n",
        "import numpy as np\n",
        "import pandas as pd\n"
      ],
      "execution_count": 55,
      "outputs": []
    },
    {
      "cell_type": "code",
      "metadata": {
        "id": "ciUjLVU6AAVF",
        "colab_type": "code",
        "colab": {}
      },
      "source": [
        "import matplotlib.pyplot as plt\n",
        "import seaborn as sns\n",
        "%matplotlib inline\n",
        "\n",
        "sns.set_style('whitegrid')\n",
        "\n",
        "plt.rcParams['figure.figsize'] = (6, 4)"
      ],
      "execution_count": 56,
      "outputs": []
    },
    {
      "cell_type": "code",
      "metadata": {
        "id": "304mFNyzAAVK",
        "colab_type": "code",
        "colab": {}
      },
      "source": [
        "df = pd.read_csv('911.csv')"
      ],
      "execution_count": 57,
      "outputs": []
    },
    {
      "cell_type": "code",
      "metadata": {
        "id": "AHQ4KNrRAAVO",
        "colab_type": "code",
        "colab": {
          "base_uri": "https://localhost:8080/",
          "height": 283
        },
        "outputId": "50c8a66f-4ad2-4998-cda6-4c86f3511016"
      },
      "source": [
        "df.info()"
      ],
      "execution_count": 58,
      "outputs": [
        {
          "output_type": "stream",
          "text": [
            "<class 'pandas.core.frame.DataFrame'>\n",
            "RangeIndex: 663522 entries, 0 to 663521\n",
            "Data columns (total 9 columns):\n",
            " #   Column     Non-Null Count   Dtype  \n",
            "---  ------     --------------   -----  \n",
            " 0   lat        663522 non-null  float64\n",
            " 1   lng        663522 non-null  float64\n",
            " 2   desc       663522 non-null  object \n",
            " 3   zip        583323 non-null  float64\n",
            " 4   title      663522 non-null  object \n",
            " 5   timeStamp  663522 non-null  object \n",
            " 6   twp        663229 non-null  object \n",
            " 7   addr       663522 non-null  object \n",
            " 8   e          663522 non-null  int64  \n",
            "dtypes: float64(3), int64(1), object(5)\n",
            "memory usage: 45.6+ MB\n"
          ],
          "name": "stdout"
        }
      ]
    },
    {
      "cell_type": "code",
      "metadata": {
        "id": "cbcwf5CcAAVT",
        "colab_type": "code",
        "colab": {
          "base_uri": "https://localhost:8080/",
          "height": 197
        },
        "outputId": "5a1e7049-fcf8-401d-d318-88f08bdd3449"
      },
      "source": [
        "df.head()"
      ],
      "execution_count": 59,
      "outputs": [
        {
          "output_type": "execute_result",
          "data": {
            "text/html": [
              "<div>\n",
              "<style scoped>\n",
              "    .dataframe tbody tr th:only-of-type {\n",
              "        vertical-align: middle;\n",
              "    }\n",
              "\n",
              "    .dataframe tbody tr th {\n",
              "        vertical-align: top;\n",
              "    }\n",
              "\n",
              "    .dataframe thead th {\n",
              "        text-align: right;\n",
              "    }\n",
              "</style>\n",
              "<table border=\"1\" class=\"dataframe\">\n",
              "  <thead>\n",
              "    <tr style=\"text-align: right;\">\n",
              "      <th></th>\n",
              "      <th>lat</th>\n",
              "      <th>lng</th>\n",
              "      <th>desc</th>\n",
              "      <th>zip</th>\n",
              "      <th>title</th>\n",
              "      <th>timeStamp</th>\n",
              "      <th>twp</th>\n",
              "      <th>addr</th>\n",
              "      <th>e</th>\n",
              "    </tr>\n",
              "  </thead>\n",
              "  <tbody>\n",
              "    <tr>\n",
              "      <th>0</th>\n",
              "      <td>40.297876</td>\n",
              "      <td>-75.581294</td>\n",
              "      <td>REINDEER CT &amp; DEAD END;  NEW HANOVER; Station ...</td>\n",
              "      <td>19525.0</td>\n",
              "      <td>EMS: BACK PAINS/INJURY</td>\n",
              "      <td>2015-12-10 17:10:52</td>\n",
              "      <td>NEW HANOVER</td>\n",
              "      <td>REINDEER CT &amp; DEAD END</td>\n",
              "      <td>1</td>\n",
              "    </tr>\n",
              "    <tr>\n",
              "      <th>1</th>\n",
              "      <td>40.258061</td>\n",
              "      <td>-75.264680</td>\n",
              "      <td>BRIAR PATH &amp; WHITEMARSH LN;  HATFIELD TOWNSHIP...</td>\n",
              "      <td>19446.0</td>\n",
              "      <td>EMS: DIABETIC EMERGENCY</td>\n",
              "      <td>2015-12-10 17:29:21</td>\n",
              "      <td>HATFIELD TOWNSHIP</td>\n",
              "      <td>BRIAR PATH &amp; WHITEMARSH LN</td>\n",
              "      <td>1</td>\n",
              "    </tr>\n",
              "    <tr>\n",
              "      <th>2</th>\n",
              "      <td>40.121182</td>\n",
              "      <td>-75.351975</td>\n",
              "      <td>HAWS AVE; NORRISTOWN; 2015-12-10 @ 14:39:21-St...</td>\n",
              "      <td>19401.0</td>\n",
              "      <td>Fire: GAS-ODOR/LEAK</td>\n",
              "      <td>2015-12-10 14:39:21</td>\n",
              "      <td>NORRISTOWN</td>\n",
              "      <td>HAWS AVE</td>\n",
              "      <td>1</td>\n",
              "    </tr>\n",
              "    <tr>\n",
              "      <th>3</th>\n",
              "      <td>40.116153</td>\n",
              "      <td>-75.343513</td>\n",
              "      <td>AIRY ST &amp; SWEDE ST;  NORRISTOWN; Station 308A;...</td>\n",
              "      <td>19401.0</td>\n",
              "      <td>EMS: CARDIAC EMERGENCY</td>\n",
              "      <td>2015-12-10 16:47:36</td>\n",
              "      <td>NORRISTOWN</td>\n",
              "      <td>AIRY ST &amp; SWEDE ST</td>\n",
              "      <td>1</td>\n",
              "    </tr>\n",
              "    <tr>\n",
              "      <th>4</th>\n",
              "      <td>40.251492</td>\n",
              "      <td>-75.603350</td>\n",
              "      <td>CHERRYWOOD CT &amp; DEAD END;  LOWER POTTSGROVE; S...</td>\n",
              "      <td>NaN</td>\n",
              "      <td>EMS: DIZZINESS</td>\n",
              "      <td>2015-12-10 16:56:52</td>\n",
              "      <td>LOWER POTTSGROVE</td>\n",
              "      <td>CHERRYWOOD CT &amp; DEAD END</td>\n",
              "      <td>1</td>\n",
              "    </tr>\n",
              "  </tbody>\n",
              "</table>\n",
              "</div>"
            ],
            "text/plain": [
              "         lat        lng  ...                        addr  e\n",
              "0  40.297876 -75.581294  ...      REINDEER CT & DEAD END  1\n",
              "1  40.258061 -75.264680  ...  BRIAR PATH & WHITEMARSH LN  1\n",
              "2  40.121182 -75.351975  ...                    HAWS AVE  1\n",
              "3  40.116153 -75.343513  ...          AIRY ST & SWEDE ST  1\n",
              "4  40.251492 -75.603350  ...    CHERRYWOOD CT & DEAD END  1\n",
              "\n",
              "[5 rows x 9 columns]"
            ]
          },
          "metadata": {
            "tags": []
          },
          "execution_count": 59
        }
      ]
    },
    {
      "cell_type": "code",
      "metadata": {
        "id": "EJ2V-8TZAAVX",
        "colab_type": "code",
        "colab": {
          "base_uri": "https://localhost:8080/",
          "height": 116
        },
        "outputId": "fdce3134-9a19-4c4e-eefe-68f69e879ff8"
      },
      "source": [
        "\n",
        "df['zip'].value_counts().head(5)"
      ],
      "execution_count": 60,
      "outputs": [
        {
          "output_type": "execute_result",
          "data": {
            "text/plain": [
              "19401.0    45606\n",
              "19464.0    43910\n",
              "19403.0    34888\n",
              "19446.0    32270\n",
              "19406.0    22464\n",
              "Name: zip, dtype: int64"
            ]
          },
          "metadata": {
            "tags": []
          },
          "execution_count": 60
        }
      ]
    },
    {
      "cell_type": "code",
      "metadata": {
        "id": "GNyohwp5AAVb",
        "colab_type": "code",
        "colab": {
          "base_uri": "https://localhost:8080/",
          "height": 116
        },
        "outputId": "a0365a34-6f6a-4dfa-9cb6-7f1dcab28583"
      },
      "source": [
        "\n",
        "df['twp'].value_counts().head(5)"
      ],
      "execution_count": 61,
      "outputs": [
        {
          "output_type": "execute_result",
          "data": {
            "text/plain": [
              "LOWER MERION    55490\n",
              "ABINGTON        39947\n",
              "NORRISTOWN      37633\n",
              "UPPER MERION    36010\n",
              "CHELTENHAM      30574\n",
              "Name: twp, dtype: int64"
            ]
          },
          "metadata": {
            "tags": []
          },
          "execution_count": 61
        }
      ]
    },
    {
      "cell_type": "code",
      "metadata": {
        "id": "LcnNcbHgAAVh",
        "colab_type": "code",
        "colab": {
          "base_uri": "https://localhost:8080/",
          "height": 33
        },
        "outputId": "b27f604e-ee98-49b3-ebc4-82cb34c05732"
      },
      "source": [
        "df['title'].nunique()"
      ],
      "execution_count": 62,
      "outputs": [
        {
          "output_type": "execute_result",
          "data": {
            "text/plain": [
              "148"
            ]
          },
          "metadata": {
            "tags": []
          },
          "execution_count": 62
        }
      ]
    },
    {
      "cell_type": "code",
      "metadata": {
        "id": "36R-mqNpAAVl",
        "colab_type": "code",
        "colab": {}
      },
      "source": [
        "df['Reason'] = df['title'].apply(lambda x: x.split(':')[0])"
      ],
      "execution_count": 63,
      "outputs": []
    },
    {
      "cell_type": "code",
      "metadata": {
        "id": "G1_1ib7fAAVp",
        "colab_type": "code",
        "colab": {
          "base_uri": "https://localhost:8080/",
          "height": 281
        },
        "outputId": "a3b4063c-53b4-4a8b-ba0b-3b64b8cfd347"
      },
      "source": [
        "df.tail()"
      ],
      "execution_count": 64,
      "outputs": [
        {
          "output_type": "execute_result",
          "data": {
            "text/html": [
              "<div>\n",
              "<style scoped>\n",
              "    .dataframe tbody tr th:only-of-type {\n",
              "        vertical-align: middle;\n",
              "    }\n",
              "\n",
              "    .dataframe tbody tr th {\n",
              "        vertical-align: top;\n",
              "    }\n",
              "\n",
              "    .dataframe thead th {\n",
              "        text-align: right;\n",
              "    }\n",
              "</style>\n",
              "<table border=\"1\" class=\"dataframe\">\n",
              "  <thead>\n",
              "    <tr style=\"text-align: right;\">\n",
              "      <th></th>\n",
              "      <th>lat</th>\n",
              "      <th>lng</th>\n",
              "      <th>desc</th>\n",
              "      <th>zip</th>\n",
              "      <th>title</th>\n",
              "      <th>timeStamp</th>\n",
              "      <th>twp</th>\n",
              "      <th>addr</th>\n",
              "      <th>e</th>\n",
              "      <th>Reason</th>\n",
              "    </tr>\n",
              "  </thead>\n",
              "  <tbody>\n",
              "    <tr>\n",
              "      <th>663517</th>\n",
              "      <td>40.157956</td>\n",
              "      <td>-75.348060</td>\n",
              "      <td>SUNSET AVE &amp; WOODLAND AVE; EAST NORRITON; 2020...</td>\n",
              "      <td>19403.0</td>\n",
              "      <td>Traffic: VEHICLE ACCIDENT -</td>\n",
              "      <td>2020-07-29 15:46:51</td>\n",
              "      <td>EAST NORRITON</td>\n",
              "      <td>SUNSET AVE &amp; WOODLAND AVE</td>\n",
              "      <td>1</td>\n",
              "      <td>Traffic</td>\n",
              "    </tr>\n",
              "    <tr>\n",
              "      <th>663518</th>\n",
              "      <td>40.136306</td>\n",
              "      <td>-75.428697</td>\n",
              "      <td>EAGLEVILLE RD &amp; BUNTING CIR;  LOWER PROVIDENCE...</td>\n",
              "      <td>19403.0</td>\n",
              "      <td>EMS: GENERAL WEAKNESS</td>\n",
              "      <td>2020-07-29 15:52:19</td>\n",
              "      <td>LOWER PROVIDENCE</td>\n",
              "      <td>EAGLEVILLE RD &amp; BUNTING CIR</td>\n",
              "      <td>1</td>\n",
              "      <td>EMS</td>\n",
              "    </tr>\n",
              "    <tr>\n",
              "      <th>663519</th>\n",
              "      <td>40.013779</td>\n",
              "      <td>-75.300835</td>\n",
              "      <td>HAVERFORD STATION RD;  LOWER MERION; Station 3...</td>\n",
              "      <td>19041.0</td>\n",
              "      <td>EMS: VEHICLE ACCIDENT</td>\n",
              "      <td>2020-07-29 15:52:52</td>\n",
              "      <td>LOWER MERION</td>\n",
              "      <td>HAVERFORD STATION RD</td>\n",
              "      <td>1</td>\n",
              "      <td>EMS</td>\n",
              "    </tr>\n",
              "    <tr>\n",
              "      <th>663520</th>\n",
              "      <td>40.121603</td>\n",
              "      <td>-75.351437</td>\n",
              "      <td>MARSHALL ST &amp; HAWS AVE; NORRISTOWN; 2020-07-29...</td>\n",
              "      <td>19401.0</td>\n",
              "      <td>Fire: BUILDING FIRE</td>\n",
              "      <td>2020-07-29 15:54:08</td>\n",
              "      <td>NORRISTOWN</td>\n",
              "      <td>MARSHALL ST &amp; HAWS AVE</td>\n",
              "      <td>1</td>\n",
              "      <td>Fire</td>\n",
              "    </tr>\n",
              "    <tr>\n",
              "      <th>663521</th>\n",
              "      <td>40.015046</td>\n",
              "      <td>-75.299674</td>\n",
              "      <td>HAVERFORD STATION RD &amp; W MONTGOMERY AVE; LOWER...</td>\n",
              "      <td>19041.0</td>\n",
              "      <td>Traffic: VEHICLE ACCIDENT -</td>\n",
              "      <td>2020-07-29 15:52:46</td>\n",
              "      <td>LOWER MERION</td>\n",
              "      <td>HAVERFORD STATION RD &amp; W MONTGOMERY AVE</td>\n",
              "      <td>1</td>\n",
              "      <td>Traffic</td>\n",
              "    </tr>\n",
              "  </tbody>\n",
              "</table>\n",
              "</div>"
            ],
            "text/plain": [
              "              lat        lng  ...  e   Reason\n",
              "663517  40.157956 -75.348060  ...  1  Traffic\n",
              "663518  40.136306 -75.428697  ...  1      EMS\n",
              "663519  40.013779 -75.300835  ...  1      EMS\n",
              "663520  40.121603 -75.351437  ...  1     Fire\n",
              "663521  40.015046 -75.299674  ...  1  Traffic\n",
              "\n",
              "[5 rows x 10 columns]"
            ]
          },
          "metadata": {
            "tags": []
          },
          "execution_count": 64
        }
      ]
    },
    {
      "cell_type": "code",
      "metadata": {
        "id": "jbDtqLGYAAVv",
        "colab_type": "code",
        "colab": {
          "base_uri": "https://localhost:8080/",
          "height": 83
        },
        "outputId": "e0db5624-6feb-45ad-d947-8bc596a4d895"
      },
      "source": [
        "df['Reason'].value_counts()"
      ],
      "execution_count": 65,
      "outputs": [
        {
          "output_type": "execute_result",
          "data": {
            "text/plain": [
              "EMS        332692\n",
              "Traffic    230208\n",
              "Fire       100622\n",
              "Name: Reason, dtype: int64"
            ]
          },
          "metadata": {
            "tags": []
          },
          "execution_count": 65
        }
      ]
    },
    {
      "cell_type": "code",
      "metadata": {
        "id": "mOGEdQoZAAV1",
        "colab_type": "code",
        "colab": {
          "base_uri": "https://localhost:8080/",
          "height": 295
        },
        "outputId": "4560b50e-55e3-40ea-f7a1-4b9b0eff0b4a"
      },
      "source": [
        "sns.countplot(df['Reason'])"
      ],
      "execution_count": 66,
      "outputs": [
        {
          "output_type": "execute_result",
          "data": {
            "text/plain": [
              "<matplotlib.axes._subplots.AxesSubplot at 0x7f9c413e4160>"
            ]
          },
          "metadata": {
            "tags": []
          },
          "execution_count": 66
        },
        {
          "output_type": "display_data",
          "data": {
            "image/png": "[encoded data removed]",
            "text/plain": [
              "<Figure size 432x288 with 1 Axes>"
            ]
          },
          "metadata": {
            "tags": []
          }
        }
      ]
    },
    {
      "cell_type": "code",
      "metadata": {
        "id": "9kgGJlWqAAV-",
        "colab_type": "code",
        "colab": {}
      },
      "source": [
        "df['timeStamp'] = pd.to_datetime(df['timeStamp'])"
      ],
      "execution_count": 67,
      "outputs": []
    },
    {
      "cell_type": "code",
      "metadata": {
        "id": "lgapEtexAAWH",
        "colab_type": "code",
        "colab": {
          "base_uri": "https://localhost:8080/",
          "height": 66
        },
        "outputId": "3610bb7b-7280-4b71-ed50-36eddb3307b0"
      },
      "source": [
        "time = df['timeStamp'].iloc[0]\n",
        "\n",
        "print('Hour:',time.hour)\n",
        "print('Month:',time.month)\n",
        "print('Day of Week:',time.dayofweek)"
      ],
      "execution_count": 68,
      "outputs": [
        {
          "output_type": "stream",
          "text": [
            "Hour: 17\n",
            "Month: 12\n",
            "Day of Week: 3\n"
          ],
          "name": "stdout"
        }
      ]
    },
    {
      "cell_type": "code",
      "metadata": {
        "id": "d1t9sdJbAAWM",
        "colab_type": "code",
        "colab": {}
      },
      "source": [
        "\n",
        "df['Hour'] = df['timeStamp'].apply(lambda x: x.hour)\n",
        "df['Month'] = df['timeStamp'].apply(lambda x: x.month)\n",
        "df['Day of Week'] = df['timeStamp'].apply(lambda x: x.dayofweek)"
      ],
      "execution_count": 69,
      "outputs": []
    },
    {
      "cell_type": "code",
      "metadata": {
        "id": "nu45Un1QAAWR",
        "colab_type": "code",
        "colab": {
          "base_uri": "https://localhost:8080/",
          "height": 221
        },
        "outputId": "2bd316c2-80e5-4c50-c78d-e2e5a30e14fe"
      },
      "source": [
        "df.head(3)"
      ],
      "execution_count": 70,
      "outputs": [
        {
          "output_type": "execute_result",
          "data": {
            "text/html": [
              "<div>\n",
              "<style scoped>\n",
              "    .dataframe tbody tr th:only-of-type {\n",
              "        vertical-align: middle;\n",
              "    }\n",
              "\n",
              "    .dataframe tbody tr th {\n",
              "        vertical-align: top;\n",
              "    }\n",
              "\n",
              "    .dataframe thead th {\n",
              "        text-align: right;\n",
              "    }\n",
              "</style>\n",
              "<table border=\"1\" class=\"dataframe\">\n",
              "  <thead>\n",
              "    <tr style=\"text-align: right;\">\n",
              "      <th></th>\n",
              "      <th>lat</th>\n",
              "      <th>lng</th>\n",
              "      <th>desc</th>\n",
              "      <th>zip</th>\n",
              "      <th>title</th>\n",
              "      <th>timeStamp</th>\n",
              "      <th>twp</th>\n",
              "      <th>addr</th>\n",
              "      <th>e</th>\n",
              "      <th>Reason</th>\n",
              "      <th>Hour</th>\n",
              "      <th>Month</th>\n",
              "      <th>Day of Week</th>\n",
              "    </tr>\n",
              "  </thead>\n",
              "  <tbody>\n",
              "    <tr>\n",
              "      <th>0</th>\n",
              "      <td>40.297876</td>\n",
              "      <td>-75.581294</td>\n",
              "      <td>REINDEER CT &amp; DEAD END;  NEW HANOVER; Station ...</td>\n",
              "      <td>19525.0</td>\n",
              "      <td>EMS: BACK PAINS/INJURY</td>\n",
              "      <td>2015-12-10 17:10:52</td>\n",
              "      <td>NEW HANOVER</td>\n",
              "      <td>REINDEER CT &amp; DEAD END</td>\n",
              "      <td>1</td>\n",
              "      <td>EMS</td>\n",
              "      <td>17</td>\n",
              "      <td>12</td>\n",
              "      <td>3</td>\n",
              "    </tr>\n",
              "    <tr>\n",
              "      <th>1</th>\n",
              "      <td>40.258061</td>\n",
              "      <td>-75.264680</td>\n",
              "      <td>BRIAR PATH &amp; WHITEMARSH LN;  HATFIELD TOWNSHIP...</td>\n",
              "      <td>19446.0</td>\n",
              "      <td>EMS: DIABETIC EMERGENCY</td>\n",
              "      <td>2015-12-10 17:29:21</td>\n",
              "      <td>HATFIELD TOWNSHIP</td>\n",
              "      <td>BRIAR PATH &amp; WHITEMARSH LN</td>\n",
              "      <td>1</td>\n",
              "      <td>EMS</td>\n",
              "      <td>17</td>\n",
              "      <td>12</td>\n",
              "      <td>3</td>\n",
              "    </tr>\n",
              "    <tr>\n",
              "      <th>2</th>\n",
              "      <td>40.121182</td>\n",
              "      <td>-75.351975</td>\n",
              "      <td>HAWS AVE; NORRISTOWN; 2015-12-10 @ 14:39:21-St...</td>\n",
              "      <td>19401.0</td>\n",
              "      <td>Fire: GAS-ODOR/LEAK</td>\n",
              "      <td>2015-12-10 14:39:21</td>\n",
              "      <td>NORRISTOWN</td>\n",
              "      <td>HAWS AVE</td>\n",
              "      <td>1</td>\n",
              "      <td>Fire</td>\n",
              "      <td>14</td>\n",
              "      <td>12</td>\n",
              "      <td>3</td>\n",
              "    </tr>\n",
              "  </tbody>\n",
              "</table>\n",
              "</div>"
            ],
            "text/plain": [
              "         lat        lng  ... Month  Day of Week\n",
              "0  40.297876 -75.581294  ...    12            3\n",
              "1  40.258061 -75.264680  ...    12            3\n",
              "2  40.121182 -75.351975  ...    12            3\n",
              "\n",
              "[3 rows x 13 columns]"
            ]
          },
          "metadata": {
            "tags": []
          },
          "execution_count": 70
        }
      ]
    },
    {
      "cell_type": "code",
      "metadata": {
        "id": "tu-cTOZ5AAWU",
        "colab_type": "code",
        "colab": {}
      },
      "source": [
        "dmap = {0:'Mon',1:'Tue',2:'Wed',3:'Thu',4:'Fri',5:'Sat',6:'Sun'}"
      ],
      "execution_count": 71,
      "outputs": []
    },
    {
      "cell_type": "code",
      "metadata": {
        "id": "gQSogpFRAAWY",
        "colab_type": "code",
        "colab": {
          "base_uri": "https://localhost:8080/",
          "height": 221
        },
        "outputId": "07ea927e-2a67-485e-8a96-65309036ea63"
      },
      "source": [
        "\n",
        "df['Day of Week'] = df['Day of Week'].map(dmap)\n",
        "\n",
        "df.tail(3)"
      ],
      "execution_count": 72,
      "outputs": [
        {
          "output_type": "execute_result",
          "data": {
            "text/html": [
              "<div>\n",
              "<style scoped>\n",
              "    .dataframe tbody tr th:only-of-type {\n",
              "        vertical-align: middle;\n",
              "    }\n",
              "\n",
              "    .dataframe tbody tr th {\n",
              "        vertical-align: top;\n",
              "    }\n",
              "\n",
              "    .dataframe thead th {\n",
              "        text-align: right;\n",
              "    }\n",
              "</style>\n",
              "<table border=\"1\" class=\"dataframe\">\n",
              "  <thead>\n",
              "    <tr style=\"text-align: right;\">\n",
              "      <th></th>\n",
              "      <th>lat</th>\n",
              "      <th>lng</th>\n",
              "      <th>desc</th>\n",
              "      <th>zip</th>\n",
              "      <th>title</th>\n",
              "      <th>timeStamp</th>\n",
              "      <th>twp</th>\n",
              "      <th>addr</th>\n",
              "      <th>e</th>\n",
              "      <th>Reason</th>\n",
              "      <th>Hour</th>\n",
              "      <th>Month</th>\n",
              "      <th>Day of Week</th>\n",
              "    </tr>\n",
              "  </thead>\n",
              "  <tbody>\n",
              "    <tr>\n",
              "      <th>663519</th>\n",
              "      <td>40.013779</td>\n",
              "      <td>-75.300835</td>\n",
              "      <td>HAVERFORD STATION RD;  LOWER MERION; Station 3...</td>\n",
              "      <td>19041.0</td>\n",
              "      <td>EMS: VEHICLE ACCIDENT</td>\n",
              "      <td>2020-07-29 15:52:52</td>\n",
              "      <td>LOWER MERION</td>\n",
              "      <td>HAVERFORD STATION RD</td>\n",
              "      <td>1</td>\n",
              "      <td>EMS</td>\n",
              "      <td>15</td>\n",
              "      <td>7</td>\n",
              "      <td>Wed</td>\n",
              "    </tr>\n",
              "    <tr>\n",
              "      <th>663520</th>\n",
              "      <td>40.121603</td>\n",
              "      <td>-75.351437</td>\n",
              "      <td>MARSHALL ST &amp; HAWS AVE; NORRISTOWN; 2020-07-29...</td>\n",
              "      <td>19401.0</td>\n",
              "      <td>Fire: BUILDING FIRE</td>\n",
              "      <td>2020-07-29 15:54:08</td>\n",
              "      <td>NORRISTOWN</td>\n",
              "      <td>MARSHALL ST &amp; HAWS AVE</td>\n",
              "      <td>1</td>\n",
              "      <td>Fire</td>\n",
              "      <td>15</td>\n",
              "      <td>7</td>\n",
              "      <td>Wed</td>\n",
              "    </tr>\n",
              "    <tr>\n",
              "      <th>663521</th>\n",
              "      <td>40.015046</td>\n",
              "      <td>-75.299674</td>\n",
              "      <td>HAVERFORD STATION RD &amp; W MONTGOMERY AVE; LOWER...</td>\n",
              "      <td>19041.0</td>\n",
              "      <td>Traffic: VEHICLE ACCIDENT -</td>\n",
              "      <td>2020-07-29 15:52:46</td>\n",
              "      <td>LOWER MERION</td>\n",
              "      <td>HAVERFORD STATION RD &amp; W MONTGOMERY AVE</td>\n",
              "      <td>1</td>\n",
              "      <td>Traffic</td>\n",
              "      <td>15</td>\n",
              "      <td>7</td>\n",
              "      <td>Wed</td>\n",
              "    </tr>\n",
              "  </tbody>\n",
              "</table>\n",
              "</div>"
            ],
            "text/plain": [
              "              lat        lng  ... Month  Day of Week\n",
              "663519  40.013779 -75.300835  ...     7          Wed\n",
              "663520  40.121603 -75.351437  ...     7          Wed\n",
              "663521  40.015046 -75.299674  ...     7          Wed\n",
              "\n",
              "[3 rows x 13 columns]"
            ]
          },
          "metadata": {
            "tags": []
          },
          "execution_count": 72
        }
      ]
    },
    {
      "cell_type": "code",
      "metadata": {
        "id": "ubqsOKsrAAWc",
        "colab_type": "code",
        "colab": {
          "base_uri": "https://localhost:8080/",
          "height": 295
        },
        "outputId": "860de047-0f64-4114-d7e5-512d7fbeff3f"
      },
      "source": [
        "sns.countplot(df['Day of Week'],hue=df['Reason'])\n",
        "\n",
        "plt.legend(bbox_to_anchor=(1.25,1))"
      ],
      "execution_count": 73,
      "outputs": [
        {
          "output_type": "execute_result",
          "data": {
            "text/plain": [
              "<matplotlib.legend.Legend at 0x7f9c413e49e8>"
            ]
          },
          "metadata": {
            "tags": []
          },
          "execution_count": 73
        },
        {
          "output_type": "display_data",
          "data": {
            "image/png": "[encoded data removed]",
            "text/plain": [
              "<Figure size 432x288 with 1 Axes>"
            ]
          },
          "metadata": {
            "tags": []
          }
        }
      ]
    },
    {
      "cell_type": "code",
      "metadata": {
        "id": "-UhPVtVdAAWg",
        "colab_type": "code",
        "colab": {
          "base_uri": "https://localhost:8080/",
          "height": 295
        },
        "outputId": "45a6c2fc-1144-43f6-9604-1e533ec9f39c"
      },
      "source": [
        "sns.countplot(df['Month'],hue=df['Reason'])\n",
        "\n",
        "plt.legend(bbox_to_anchor=(1.25,1))"
      ],
      "execution_count": 74,
      "outputs": [
        {
          "output_type": "execute_result",
          "data": {
            "text/plain": [
              "<matplotlib.legend.Legend at 0x7f9c4eda9b00>"
            ]
          },
          "metadata": {
            "tags": []
          },
          "execution_count": 74
        },
        {
          "output_type": "display_data",
          "data": {
            "image/png": "[encoded data removed]",
            "text/plain": [
              "<Figure size 432x288 with 1 Axes>"
            ]
          },
          "metadata": {
            "tags": []
          }
        }
      ]
    },
    {
      "cell_type": "code",
      "metadata": {
        "id": "ICxhTb5fAAWk",
        "colab_type": "code",
        "colab": {}
      },
      "source": [
        "byMonth = df.groupby(by='Month').count()\n"
      ],
      "execution_count": 75,
      "outputs": []
    },
    {
      "cell_type": "code",
      "metadata": {
        "id": "dzIzPyqDAAXV",
        "colab_type": "code",
        "colab": {
          "base_uri": "https://localhost:8080/",
          "height": 311
        },
        "outputId": "99432bcc-b0db-414e-a108-86cc52ef1246"
      },
      "source": [
        "byMonth['e'].plot.line(y='e')\n",
        "plt.title('Calls per Month')\n",
        "plt.ylabel('Number of Calls')"
      ],
      "execution_count": 76,
      "outputs": [
        {
          "output_type": "execute_result",
          "data": {
            "text/plain": [
              "Text(0, 0.5, 'Number of Calls')"
            ]
          },
          "metadata": {
            "tags": []
          },
          "execution_count": 76
        },
        {
          "output_type": "display_data",
          "data": {
            "image/png": "[encoded data removed]",
            "text/plain": [
              "<Figure size 432x288 with 1 Axes>"
            ]
          },
          "metadata": {
            "tags": []
          }
        }
      ]
    },
    {
      "cell_type": "code",
      "metadata": {
        "id": "AEAp1HgbAAXZ",
        "colab_type": "code",
        "colab": {}
      },
      "source": [
        "byMonth.reset_index(inplace=True)"
      ],
      "execution_count": 77,
      "outputs": []
    },
    {
      "cell_type": "code",
      "metadata": {
        "id": "kC7_beH6AAXc",
        "colab_type": "code",
        "colab": {
          "base_uri": "https://localhost:8080/",
          "height": 385
        },
        "outputId": "31b1275e-2a23-4110-ade4-6ed58823bad6"
      },
      "source": [
        "\n",
        "sns.lmplot(x='Month',y='e',data=byMonth)\n",
        "plt.ylabel('Number of Calls')"
      ],
      "execution_count": 78,
      "outputs": [
        {
          "output_type": "execute_result",
          "data": {
            "text/plain": [
              "Text(-8.950000000000003, 0.5, 'Number of Calls')"
            ]
          },
          "metadata": {
            "tags": []
          },
          "execution_count": 78
        },
        {
          "output_type": "display_data",
          "data": {
            "image/png": "[encoded data removed]",
            "text/plain": [
              "<Figure size 360x360 with 1 Axes>"
            ]
          },
          "metadata": {
            "tags": []
          }
        }
      ]
    },
    {
      "cell_type": "code",
      "metadata": {
        "id": "X3cQcbDTAAXi",
        "colab_type": "code",
        "colab": {}
      },
      "source": [
        "df['Date']=df['timeStamp'].apply(lambda x: x.date())"
      ],
      "execution_count": 79,
      "outputs": []
    },
    {
      "cell_type": "code",
      "metadata": {
        "id": "6Fk7I73TAAXp",
        "colab_type": "code",
        "colab": {
          "base_uri": "https://localhost:8080/",
          "height": 174
        },
        "outputId": "4181bcb4-62f2-46aa-e4fa-502d43acf05c"
      },
      "source": [
        "df.head(2)"
      ],
      "execution_count": 80,
      "outputs": [
        {
          "output_type": "execute_result",
          "data": {
            "text/html": [
              "<div>\n",
              "<style scoped>\n",
              "    .dataframe tbody tr th:only-of-type {\n",
              "        vertical-align: middle;\n",
              "    }\n",
              "\n",
              "    .dataframe tbody tr th {\n",
              "        vertical-align: top;\n",
              "    }\n",
              "\n",
              "    .dataframe thead th {\n",
              "        text-align: right;\n",
              "    }\n",
              "</style>\n",
              "<table border=\"1\" class=\"dataframe\">\n",
              "  <thead>\n",
              "    <tr style=\"text-align: right;\">\n",
              "      <th></th>\n",
              "      <th>lat</th>\n",
              "      <th>lng</th>\n",
              "      <th>desc</th>\n",
              "      <th>zip</th>\n",
              "      <th>title</th>\n",
              "      <th>timeStamp</th>\n",
              "      <th>twp</th>\n",
              "      <th>addr</th>\n",
              "      <th>e</th>\n",
              "      <th>Reason</th>\n",
              "      <th>Hour</th>\n",
              "      <th>Month</th>\n",
              "      <th>Day of Week</th>\n",
              "      <th>Date</th>\n",
              "    </tr>\n",
              "  </thead>\n",
              "  <tbody>\n",
              "    <tr>\n",
              "      <th>0</th>\n",
              "      <td>40.297876</td>\n",
              "      <td>-75.581294</td>\n",
              "      <td>REINDEER CT &amp; DEAD END;  NEW HANOVER; Station ...</td>\n",
              "      <td>19525.0</td>\n",
              "      <td>EMS: BACK PAINS/INJURY</td>\n",
              "      <td>2015-12-10 17:10:52</td>\n",
              "      <td>NEW HANOVER</td>\n",
              "      <td>REINDEER CT &amp; DEAD END</td>\n",
              "      <td>1</td>\n",
              "      <td>EMS</td>\n",
              "      <td>17</td>\n",
              "      <td>12</td>\n",
              "      <td>Thu</td>\n",
              "      <td>2015-12-10</td>\n",
              "    </tr>\n",
              "    <tr>\n",
              "      <th>1</th>\n",
              "      <td>40.258061</td>\n",
              "      <td>-75.264680</td>\n",
              "      <td>BRIAR PATH &amp; WHITEMARSH LN;  HATFIELD TOWNSHIP...</td>\n",
              "      <td>19446.0</td>\n",
              "      <td>EMS: DIABETIC EMERGENCY</td>\n",
              "      <td>2015-12-10 17:29:21</td>\n",
              "      <td>HATFIELD TOWNSHIP</td>\n",
              "      <td>BRIAR PATH &amp; WHITEMARSH LN</td>\n",
              "      <td>1</td>\n",
              "      <td>EMS</td>\n",
              "      <td>17</td>\n",
              "      <td>12</td>\n",
              "      <td>Thu</td>\n",
              "      <td>2015-12-10</td>\n",
              "    </tr>\n",
              "  </tbody>\n",
              "</table>\n",
              "</div>"
            ],
            "text/plain": [
              "         lat        lng  ... Day of Week        Date\n",
              "0  40.297876 -75.581294  ...         Thu  2015-12-10\n",
              "1  40.258061 -75.264680  ...         Thu  2015-12-10\n",
              "\n",
              "[2 rows x 14 columns]"
            ]
          },
          "metadata": {
            "tags": []
          },
          "execution_count": 80
        }
      ]
    },
    {
      "cell_type": "code",
      "metadata": {
        "id": "V5RE6zveAAXu",
        "colab_type": "code",
        "colab": {
          "base_uri": "https://localhost:8080/",
          "height": 296
        },
        "outputId": "88f8404f-d45e-4725-b932-b3bfba1a3b70"
      },
      "source": [
        "\n",
        "df.groupby('Date').count()['e'].plot.line(y='e')\n",
        "\n",
        "plt.legend().remove()\n",
        "plt.tight_layout()"
      ],
      "execution_count": 81,
      "outputs": [
        {
          "output_type": "display_data",
          "data": {
            "image/png": "[encoded data removed]",
            "text/plain": [
              "<Figure size 432x288 with 1 Axes>"
            ]
          },
          "metadata": {
            "tags": []
          }
        }
      ]
    },
    {
      "cell_type": "code",
      "metadata": {
        "id": "qCg9C4w8AAXy",
        "colab_type": "code",
        "colab": {
          "base_uri": "https://localhost:8080/",
          "height": 296
        },
        "outputId": "78e8e890-6917-4fb1-fb60-85b73dcafcea"
      },
      "source": [
        "df[df['Reason']=='Traffic'].groupby('Date').count()['twp'].plot()\n",
        "plt.title('Traffic')\n",
        "plt.tight_layout()"
      ],
      "execution_count": 82,
      "outputs": [
        {
          "output_type": "display_data",
          "data": {
            "image/png": "[encoded data removed]",
            "text/plain": [
              "<Figure size 432x288 with 1 Axes>"
            ]
          },
          "metadata": {
            "tags": []
          }
        }
      ]
    },
    {
      "cell_type": "code",
      "metadata": {
        "id": "HGP6mWNLAAX2",
        "colab_type": "code",
        "colab": {
          "base_uri": "https://localhost:8080/",
          "height": 296
        },
        "outputId": "c3df7ee0-4e11-4075-f1a6-b0c4e84bcbd4"
      },
      "source": [
        "df[df['Reason']=='Fire'].groupby('Date').count()['twp'].plot()\n",
        "plt.title('Fire')\n",
        "plt.tight_layout()"
      ],
      "execution_count": 83,
      "outputs": [
        {
          "output_type": "display_data",
          "data": {
            "image/png": "[encoded data removed]",
            "text/plain": [
              "<Figure size 432x288 with 1 Axes>"
            ]
          },
          "metadata": {
            "tags": []
          }
        }
      ]
    },
    {
      "cell_type": "code",
      "metadata": {
        "id": "ebOHh5QJAAX6",
        "colab_type": "code",
        "colab": {
          "base_uri": "https://localhost:8080/",
          "height": 296
        },
        "outputId": "85613d2e-e3e5-4871-abfb-64d8d4f355bc"
      },
      "source": [
        "df[df['Reason']=='EMS'].groupby('Date').count()['twp'].plot()\n",
        "plt.title('EMS')\n",
        "plt.tight_layout()"
      ],
      "execution_count": 84,
      "outputs": [
        {
          "output_type": "display_data",
          "data": {
            "image/png": "[encoded data removed]",
            "text/plain": [
              "<Figure size 432x288 with 1 Axes>"
            ]
          },
          "metadata": {
            "tags": []
          }
        }
      ]
    },
    {
      "cell_type": "markdown",
      "metadata": {
        "id": "Pi3qQSNUkhEt",
        "colab_type": "text"
      },
      "source": [
        "**Hypothesis**\n",
        "\n",
        "See if there is any direct correlation between the emergency call location and the emergency type."
      ]
    },
    {
      "cell_type": "code",
      "metadata": {
        "id": "VxpCwqIrAAYA",
        "colab_type": "code",
        "colab": {}
      },
      "source": [
        "import numpy as np\n",
        "import pandas as pd\n",
        "import matplotlib.pyplot as plt\n",
        "import scipy.stats as st"
      ],
      "execution_count": 85,
      "outputs": []
    },
    {
      "cell_type": "markdown",
      "metadata": {
        "id": "F7H_i1nikseM",
        "colab_type": "text"
      },
      "source": [
        "We will import only location and emergency"
      ]
    },
    {
      "cell_type": "code",
      "metadata": {
        "id": "8EwNH-xTAAYD",
        "colab_type": "code",
        "colab": {
          "base_uri": "https://localhost:8080/",
          "height": 347
        },
        "outputId": "12846970-d4b9-46e7-d9ab-e51aa7a9b4fd"
      },
      "source": [
        "df = pd.read_csv('911.csv', low_memory=False, nrows=1000)\n",
        "df = df[['lat', 'lng', 'title']]\n",
        "\n",
        "\n",
        "df.head(10)"
      ],
      "execution_count": 86,
      "outputs": [
        {
          "output_type": "execute_result",
          "data": {
            "text/html": [
              "<div>\n",
              "<style scoped>\n",
              "    .dataframe tbody tr th:only-of-type {\n",
              "        vertical-align: middle;\n",
              "    }\n",
              "\n",
              "    .dataframe tbody tr th {\n",
              "        vertical-align: top;\n",
              "    }\n",
              "\n",
              "    .dataframe thead th {\n",
              "        text-align: right;\n",
              "    }\n",
              "</style>\n",
              "<table border=\"1\" class=\"dataframe\">\n",
              "  <thead>\n",
              "    <tr style=\"text-align: right;\">\n",
              "      <th></th>\n",
              "      <th>lat</th>\n",
              "      <th>lng</th>\n",
              "      <th>title</th>\n",
              "    </tr>\n",
              "  </thead>\n",
              "  <tbody>\n",
              "    <tr>\n",
              "      <th>0</th>\n",
              "      <td>40.297876</td>\n",
              "      <td>-75.581294</td>\n",
              "      <td>EMS: BACK PAINS/INJURY</td>\n",
              "    </tr>\n",
              "    <tr>\n",
              "      <th>1</th>\n",
              "      <td>40.258061</td>\n",
              "      <td>-75.264680</td>\n",
              "      <td>EMS: DIABETIC EMERGENCY</td>\n",
              "    </tr>\n",
              "    <tr>\n",
              "      <th>2</th>\n",
              "      <td>40.121182</td>\n",
              "      <td>-75.351975</td>\n",
              "      <td>Fire: GAS-ODOR/LEAK</td>\n",
              "    </tr>\n",
              "    <tr>\n",
              "      <th>3</th>\n",
              "      <td>40.116153</td>\n",
              "      <td>-75.343513</td>\n",
              "      <td>EMS: CARDIAC EMERGENCY</td>\n",
              "    </tr>\n",
              "    <tr>\n",
              "      <th>4</th>\n",
              "      <td>40.251492</td>\n",
              "      <td>-75.603350</td>\n",
              "      <td>EMS: DIZZINESS</td>\n",
              "    </tr>\n",
              "    <tr>\n",
              "      <th>5</th>\n",
              "      <td>40.253473</td>\n",
              "      <td>-75.283245</td>\n",
              "      <td>EMS: HEAD INJURY</td>\n",
              "    </tr>\n",
              "    <tr>\n",
              "      <th>6</th>\n",
              "      <td>40.182111</td>\n",
              "      <td>-75.127795</td>\n",
              "      <td>EMS: NAUSEA/VOMITING</td>\n",
              "    </tr>\n",
              "    <tr>\n",
              "      <th>7</th>\n",
              "      <td>40.217286</td>\n",
              "      <td>-75.405182</td>\n",
              "      <td>EMS: RESPIRATORY EMERGENCY</td>\n",
              "    </tr>\n",
              "    <tr>\n",
              "      <th>8</th>\n",
              "      <td>40.289027</td>\n",
              "      <td>-75.399590</td>\n",
              "      <td>EMS: SYNCOPAL EPISODE</td>\n",
              "    </tr>\n",
              "    <tr>\n",
              "      <th>9</th>\n",
              "      <td>40.102398</td>\n",
              "      <td>-75.291458</td>\n",
              "      <td>Traffic: VEHICLE ACCIDENT -</td>\n",
              "    </tr>\n",
              "  </tbody>\n",
              "</table>\n",
              "</div>"
            ],
            "text/plain": [
              "         lat        lng                        title\n",
              "0  40.297876 -75.581294       EMS: BACK PAINS/INJURY\n",
              "1  40.258061 -75.264680      EMS: DIABETIC EMERGENCY\n",
              "2  40.121182 -75.351975          Fire: GAS-ODOR/LEAK\n",
              "3  40.116153 -75.343513       EMS: CARDIAC EMERGENCY\n",
              "4  40.251492 -75.603350               EMS: DIZZINESS\n",
              "5  40.253473 -75.283245             EMS: HEAD INJURY\n",
              "6  40.182111 -75.127795         EMS: NAUSEA/VOMITING\n",
              "7  40.217286 -75.405182   EMS: RESPIRATORY EMERGENCY\n",
              "8  40.289027 -75.399590        EMS: SYNCOPAL EPISODE\n",
              "9  40.102398 -75.291458  Traffic: VEHICLE ACCIDENT -"
            ]
          },
          "metadata": {
            "tags": []
          },
          "execution_count": 86
        }
      ]
    },
    {
      "cell_type": "code",
      "metadata": {
        "id": "sAHq0IK7AAYf",
        "colab_type": "code",
        "colab": {
          "base_uri": "https://localhost:8080/",
          "height": 294
        },
        "outputId": "506185f7-8991-4a7c-ec9c-ce9461a39fb5"
      },
      "source": [
        "from sklearn.datasets.samples_generator import make_blobs\n",
        "\n",
        "\n",
        "for i in range (0, df.shape[0]):\n",
        "    df.iloc[i, 2] = df.iloc[i, 2][: df.iloc[i, 2].find(\":\")]\n",
        "    \n",
        "temp = np.unique(df['title'])\n",
        "types = dict()\n",
        "for type_id in range(0, len(temp)):\n",
        "    types[temp[type_id]] = type_id\n",
        "\n",
        "del temp\n",
        "\n",
        "y = df.iloc[:, 2]\n",
        "y = y.replace(types)\n",
        "\n",
        "n_components = len(types)\n",
        "X, truth = make_blobs(n_samples=df.shape[0], centers=n_components)\n",
        "plt.scatter(df.iloc[:, 0], df.iloc[:, 1], s=50, c = y)\n",
        "plt.title(f\"Example of a mixture of {n_components} distributions\")\n",
        "plt.xlabel(\"Latitude\")\n",
        "plt.ylabel(\"Longtitude\");"
      ],
      "execution_count": 87,
      "outputs": [
        {
          "output_type": "display_data",
          "data": {
            "image/png": "[encoded data removed]",
            "text/plain": [
              "<Figure size 432x288 with 1 Axes>"
            ]
          },
          "metadata": {
            "tags": []
          }
        }
      ]
    },
    {
      "cell_type": "markdown",
      "metadata": {
        "id": "08Cs00ICjtYS",
        "colab_type": "text"
      },
      "source": [
        "From the graph above, we cannot see any direct seperation of emergency type according to logtitude and latitude. It makes finding the form of the density of this distribution not plausable. Instead of trying to find a form, we can try to find a probability depending on the calls around the input location."
      ]
    },
    {
      "cell_type": "markdown",
      "metadata": {
        "id": "fNoNDcAckA4O",
        "colab_type": "text"
      },
      "source": [
        "We shall try NAIVE ESTIMATER"
      ]
    },
    {
      "cell_type": "code",
      "metadata": {
        "id": "k0NvFm2PiyVw",
        "colab_type": "code",
        "colab": {}
      },
      "source": [
        "def naive_estimator_evidence(neighbourhood, point, dataset):\n",
        "    application_matrix = (point[0] - neighbourhood / 2) < dataset['lat']\n",
        "    application_matrix *= (point[0] + neighbourhood / 2) >= dataset['lat']\n",
        "    application_matrix *= (point[1] - neighbourhood / 2) < dataset['lng']\n",
        "    application_matrix *= (point[1] + neighbourhood / 2) >= dataset['lng']\n",
        "    \n",
        "    return ((sum(application_matrix) / dataset.shape[0]))"
      ],
      "execution_count": 88,
      "outputs": []
    },
    {
      "cell_type": "code",
      "metadata": {
        "id": "kcqRJtuli0qJ",
        "colab_type": "code",
        "colab": {}
      },
      "source": [
        "def naive_estimator_likelihood(neighbourhood, point, dataset, emergency):\n",
        "    emergency_set = dataset[dataset['title'] == emergency]\n",
        "    likelihood = naive_estimator_evidence(neighbourhood, point, emergency_set)\n",
        "    \n",
        "    return (likelihood)"
      ],
      "execution_count": 89,
      "outputs": []
    },
    {
      "cell_type": "code",
      "metadata": {
        "id": "czrd-Iz6i2to",
        "colab_type": "code",
        "colab": {}
      },
      "source": [
        "def prior(dataset, emergency):\n",
        "    emergency_set = dataset[dataset['title'] == emergency]\n",
        "    prior = emergency_set.shape[0] / dataset.shape[0]\n",
        "    \n",
        "    return (prior)"
      ],
      "execution_count": 90,
      "outputs": []
    },
    {
      "cell_type": "code",
      "metadata": {
        "id": "tFY3rswHi4Nd",
        "colab_type": "code",
        "colab": {}
      },
      "source": [
        "def normalized_posterior(prior, likelihood, evidence):\n",
        "    posterior = prior * likelihood / evidence\n",
        "    return(posterior)"
      ],
      "execution_count": 91,
      "outputs": []
    },
    {
      "cell_type": "code",
      "metadata": {
        "id": "P5ZNaNsbi_vH",
        "colab_type": "code",
        "colab": {}
      },
      "source": [
        "def naive_estimator_posterior(neighbourhood, point, dataset, emergency):\n",
        "\n",
        "    __evidence = naive_estimator_evidence(neighbourhood, point, df)\n",
        "    __likelihood = naive_estimator_likelihood(neighbourhood, point, df, emergency)\n",
        "    __prior = prior(df, emergency)\n",
        "    __posterior = normalized_posterior(__prior, __likelihood, __evidence)\n",
        "    \n",
        "    return __posterior"
      ],
      "execution_count": 92,
      "outputs": []
    },
    {
      "cell_type": "code",
      "metadata": {
        "id": "AL5ABkcEjCJJ",
        "colab_type": "code",
        "colab": {}
      },
      "source": [
        "from sklearn.model_selection import train_test_split\n",
        "X = df.iloc[:, :2]\n",
        "y = df.iloc[:, 2]\n",
        "train, test = train_test_split(df, test_size=0.2, random_state=21)\n",
        "\n",
        "X_test = test.iloc[:, :2]\n",
        "y_test = test.iloc[:, 2]"
      ],
      "execution_count": 93,
      "outputs": []
    },
    {
      "cell_type": "code",
      "metadata": {
        "id": "aPRmFaedjFs8",
        "colab_type": "code",
        "colab": {
          "base_uri": "https://localhost:8080/",
          "height": 86
        },
        "outputId": "98f1e19b-51f8-4b3e-d7ff-86c1a9d8613c"
      },
      "source": [
        "# Calculate accuracy for Naive Estimator\n",
        "\n",
        "result = []\n",
        "temp = np.unique(df['title'])\n",
        "\n",
        "for i in range(0, X_test.shape[0]):\n",
        "    best_posterior = 0\n",
        "    best_class = ''\n",
        "    for title in temp:\n",
        "        posterior = naive_estimator_posterior(0.001, X_test.iloc[i, :], train, title)\n",
        "        \n",
        "        if(posterior > best_posterior):\n",
        "            best_posterior = posterior\n",
        "            best_class = title\n",
        "    result.append(best_class)\n",
        "    \n",
        "print(\"Accuracy for naive_estimator_posterior with 0.001 neighbour: \", sum(result == y_test) / len(result) * 100)"
      ],
      "execution_count": 94,
      "outputs": [
        {
          "output_type": "stream",
          "text": [
            "/usr/local/lib/python3.6/dist-packages/pandas/core/computation/expressions.py:178: UserWarning: evaluating in Python space because the '*' operator is not supported by numexpr for the bool dtype, use '&' instead\n",
            "  f\"evaluating in Python space because the {repr(op_str)} \"\n"
          ],
          "name": "stderr"
        },
        {
          "output_type": "stream",
          "text": [
            "Accuracy for naive_estimator_posterior with 0.001 neighbour:  87.5\n"
          ],
          "name": "stdout"
        }
      ]
    },
    {
      "cell_type": "markdown",
      "metadata": {
        "id": "DK2pu_svkKUz",
        "colab_type": "text"
      },
      "source": [
        "So we are getting accuracy of 87.5%"
      ]
    }
  ]
}